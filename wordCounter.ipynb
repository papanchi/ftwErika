{
 "cells": [
  {
   "cell_type": "code",
   "execution_count": 1,
   "metadata": {},
   "outputs": [],
   "source": [
    "def wordCount(song):\n",
    "    counts = dict()\n",
    "    words = song.lower().split()\n",
    "    for word in words:\n",
    "        if word in counts:\n",
    "            counts[word] += 1\n",
    "        else:\n",
    "            counts[word] = 1\n",
    "    return counts"
   ]
  },
  {
   "cell_type": "code",
   "execution_count": 6,
   "metadata": {},
   "outputs": [],
   "source": [
    "song = \"\"\"We're no strangers to love\n",
    "You know the rules and so do I\n",
    "A full commitment's what I'm thinking of\n",
    "You wouldn't get this from any other guy\n",
    "I just wanna tell you how I'm feeling\n",
    "Gotta make you understand\n",
    "Never gonna give you up\n",
    "Never gonna let you down\n",
    "Never gonna run around and desert you\n",
    "Never gonna make you cry\n",
    "Never gonna say goodbye\n",
    "Never gonna tell a lie and hurt you\"\"\""
   ]
  },
  {
   "cell_type": "code",
   "execution_count": 7,
   "metadata": {
    "scrolled": false
   },
   "outputs": [
    {
     "name": "stdout",
     "output_type": "stream",
     "text": [
      "we're 1\n",
      "no 1\n",
      "strangers 1\n",
      "to 1\n",
      "love 1\n",
      "you 9\n",
      "know 1\n",
      "the 1\n",
      "rules 1\n",
      "and 3\n",
      "so 1\n",
      "do 1\n",
      "i 2\n",
      "a 2\n",
      "full 1\n",
      "commitment's 1\n",
      "what 1\n",
      "i'm 2\n",
      "thinking 1\n",
      "of 1\n",
      "wouldn't 1\n",
      "get 1\n",
      "this 1\n",
      "from 1\n",
      "any 1\n",
      "other 1\n",
      "guy 1\n",
      "just 1\n",
      "wanna 1\n",
      "tell 2\n",
      "how 1\n",
      "feeling 1\n",
      "gotta 1\n",
      "make 2\n",
      "understand 1\n",
      "never 6\n",
      "gonna 6\n",
      "give 1\n",
      "up 1\n",
      "let 1\n",
      "down 1\n",
      "run 1\n",
      "around 1\n",
      "desert 1\n",
      "cry 1\n",
      "say 1\n",
      "goodbye 1\n",
      "lie 1\n",
      "hurt 1\n"
     ]
    }
   ],
   "source": [
    "x = wordCount(song)\n",
    "for word,count in x.items():\n",
    "    print (word,count)"
   ]
  }
 ],
 "metadata": {
  "kernelspec": {
   "display_name": "Python 3",
   "language": "python",
   "name": "python3"
  },
  "language_info": {
   "codemirror_mode": {
    "name": "ipython",
    "version": 3
   },
   "file_extension": ".py",
   "mimetype": "text/x-python",
   "name": "python",
   "nbconvert_exporter": "python",
   "pygments_lexer": "ipython3",
   "version": "3.7.3"
  }
 },
 "nbformat": 4,
 "nbformat_minor": 2
}
